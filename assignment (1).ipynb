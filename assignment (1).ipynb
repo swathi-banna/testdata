{
 "cells": [
  {
   "cell_type": "markdown",
   "metadata": {},
   "source": [
    "**Packages**"
   ]
  },
  {
   "cell_type": "code",
   "execution_count": 1,
   "metadata": {},
   "outputs": [],
   "source": [
    "import pandas as pd\n",
    "from cassandra.cluster import Cluster"
   ]
  },
  {
   "cell_type": "code",
   "execution_count": 2,
   "metadata": {},
   "outputs": [],
   "source": [
    "cluster1=Cluster()\n",
    "session=cluster1.connect()"
   ]
  },
  {
   "cell_type": "markdown",
   "metadata": {},
   "source": [
    "**Creating Session**"
   ]
  },
  {
   "cell_type": "code",
   "execution_count": 4,
   "metadata": {},
   "outputs": [
    {
     "data": {
      "text/plain": [
       "<cassandra.cluster.ResultSet at 0x7fd392df7b90>"
      ]
     },
     "execution_count": 4,
     "metadata": {},
     "output_type": "execute_result"
    }
   ],
   "source": [
    "session.execute(\"CREATE KEYSPACE IF NOT EXISTS bd23 WITH REPLICATION = { 'class' : 'SimpleStrategy', 'replication_factor' :2 }\")"
   ]
  },
  {
   "cell_type": "code",
   "execution_count": 20,
   "metadata": {},
   "outputs": [
    {
     "data": {
      "text/plain": [
       "<cassandra.cluster.ResultSet at 0x7fd390928f10>"
      ]
     },
     "execution_count": 20,
     "metadata": {},
     "output_type": "execute_result"
    }
   ],
   "source": [
    "session.execute(\"drop table bd23.inventory\")"
   ]
  },
  {
   "cell_type": "markdown",
   "metadata": {},
   "source": [
    "**Create Table**"
   ]
  },
  {
   "cell_type": "code",
   "execution_count": 21,
   "metadata": {},
   "outputs": [
    {
     "data": {
      "text/plain": [
       "<cassandra.cluster.ResultSet at 0x7fd390953c90>"
      ]
     },
     "execution_count": 21,
     "metadata": {},
     "output_type": "execute_result"
    }
   ],
   "source": [
    "session.execute(\"\"\"\n",
    "                 CREATE TABLE IF NOT EXISTS bd23.inventory \n",
    "                (\n",
    "                 \n",
    "                sku INT, \n",
    "                name TEXT, \n",
    "                description TEXT, \n",
    "                warehouse_num INT, \n",
    "                PRIMARY KEY(sku,name,warehouse_num)\n",
    "                );      \n",
    "              \"\"\")  "
   ]
  },
  {
   "cell_type": "code",
   "execution_count": 23,
   "metadata": {},
   "outputs": [],
   "source": [
    "idx = \"CREATE INDEX wrh_index ON bd23.inventory(warehouse_num)\""
   ]
  },
  {
   "cell_type": "code",
   "execution_count": 24,
   "metadata": {},
   "outputs": [
    {
     "data": {
      "text/plain": [
       "<cassandra.cluster.ResultSet at 0x7fd390953710>"
      ]
     },
     "execution_count": 24,
     "metadata": {},
     "output_type": "execute_result"
    }
   ],
   "source": [
    "session.execute(idx)"
   ]
  },
  {
   "cell_type": "code",
   "execution_count": 30,
   "metadata": {},
   "outputs": [
    {
     "data": {
      "text/plain": [
       "<cassandra.cluster.ResultSet at 0x7fd3911307d0>"
      ]
     },
     "execution_count": 30,
     "metadata": {},
     "output_type": "execute_result"
    }
   ],
   "source": [
    "session.execute(f\"\"\"\n",
    "INSERT INTO bd23.inventory (sku, name, description, warehouse_num)     \n",
    "        VALUES (1,'sbk','spiral notebook',123);\n",
    "\n",
    "                \"\"\")\n",
    "session.execute(f\"\"\"\n",
    "INSERT INTO bd23.inventory (sku, name, description, warehouse_num)     \n",
    "        VALUES (2,'com','composition book',789);\n",
    "         \"\"\")        \n",
    "session.execute(f\"\"\"                \n",
    "INSERT INTO bd23.inventory (sku, name, description, warehouse_num)     \n",
    "        VALUES (3,'sbk','spiral notebook',456);\n",
    "                 \"\"\")\n",
    "session.execute(f\"\"\"\n",
    "INSERT INTO bd23.inventory (sku, name, description, warehouse_num)     \n",
    "        VALUES (4,'com','composition book',123);\n",
    "                 \"\"\")\n",
    "session.execute(f\"\"\"\n",
    "INSERT INTO bd23.inventory (sku, name, description, warehouse_num)     \n",
    "        VALUES (5,'skt','sketch book',123);\n",
    "                 \"\"\")\n",
    "session.execute(f\"\"\"\n",
    "INSERT INTO bd23.inventory (sku, name, description, warehouse_num)     \n",
    "        VALUES (1,'wdr','wide rule book',123);\n",
    "                 \"\"\")"
   ]
  },
  {
   "cell_type": "code",
   "execution_count": 38,
   "metadata": {},
   "outputs": [
    {
     "data": {
      "text/plain": [
       "<cassandra.cluster.ResultSet at 0x7fd390aab1d0>"
      ]
     },
     "execution_count": 38,
     "metadata": {},
     "output_type": "execute_result"
    }
   ],
   "source": [
    "session.execute(\"select (sku, name, description) from bd23.inventory where warehouse_num=123;\")"
   ]
  }
 ],
 "metadata": {
  "kernelspec": {
   "display_name": "bd",
   "language": "python",
   "name": "python3"
  },
  "language_info": {
   "codemirror_mode": {
    "name": "ipython",
    "version": 3
   },
   "file_extension": ".py",
   "mimetype": "text/x-python",
   "name": "python",
   "nbconvert_exporter": "python",
   "pygments_lexer": "ipython3",
   "version": "3.11.5"
  },
  "orig_nbformat": 4
 },
 "nbformat": 4,
 "nbformat_minor": 2
}
